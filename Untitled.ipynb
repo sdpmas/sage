{
 "cells": [
  {
   "cell_type": "code",
   "execution_count": null,
   "id": "84d7e099",
   "metadata": {},
   "outputs": [
    {
     "name": "stdout",
     "output_type": "stream",
     "text": [
      "\n",
      "2021-09-28 23:12:05,649:INFO:deployn.py:deploy:56:\n",
      "Deploying model_name=seargenpj to env=production\n",
      "\n",
      "2021-09-28 23:12:06,075:INFO:deployn.py:deploy:71:\n",
      "Instance type: ml.g4dn.2xlarge\n",
      "\n",
      "2021-09-28 23:12:06,075:INFO:deployn.py:deploy:72:\n",
      "Instance no: 1instances\n"
     ]
    }
   ],
   "source": [
    "!DEPLOY_ENV=production python deploy/sagemaker/deployn.py"
   ]
  },
  {
   "cell_type": "code",
   "execution_count": 2,
   "id": "317d6c03",
   "metadata": {},
   "outputs": [
    {
     "name": "stdout",
     "output_type": "stream",
     "text": [
      "drwxrwxr-x ec2-user/ec2-user 0 2021-08-13 21:33 code_files/\r\n",
      "drwxrwxr-x ec2-user/ec2-user 0 2021-08-13 21:32 code_files/search/\r\n",
      "-rw-rw-r-- ec2-user/ec2-user 2322 2021-08-13 21:32 code_files/search/model.py\r\n",
      "drwxrwxr-x ec2-user/ec2-user    0 2021-08-13 21:33 code_files/__pycache__/\r\n",
      "-rw-rw-r-- ec2-user/ec2-user  618 2021-08-13 21:33 code_files/__pycache__/config.cpython-36.pyc\r\n",
      "-rw-rw-r-- ec2-user/ec2-user 1712 2021-08-13 21:33 code_files/__pycache__/utils.cpython-36.pyc\r\n",
      "-rw-rw-r-- ec2-user/ec2-user 1431 2021-08-13 21:31 code_files/utils.py\r\n",
      "drwxrwxr-x ec2-user/ec2-user    0 2021-08-13 21:31 code_files/.ipynb_checkpoints/\r\n",
      "-rw-rw-r-- ec2-user/ec2-user  622 2021-08-13 21:31 code_files/config.py\r\n",
      "drwxrwxr-x ec2-user/ec2-user    0 2021-08-13 21:32 code_files/gen/\r\n",
      "-rw-rw-r-- ec2-user/ec2-user  412 2021-08-13 21:32 code_files/gen/seargen.py\r\n",
      "drwxrwxr-x ec2-user/ec2-user    0 2021-08-13 21:33 data/\r\n",
      "drwxrwxr-x ec2-user/ec2-user    0 2021-08-13 21:28 deploy/\r\n",
      "drwxrwxr-x ec2-user/ec2-user    0 2021-08-25 21:28 deploy/sagemaker/\r\n",
      "-rw-rw-r-- ec2-user/ec2-user 1210 2021-08-13 21:28 deploy/sagemaker/README.md\r\n",
      "-rw-rw-r-- ec2-user/ec2-user 1539 2021-08-13 21:28 deploy/sagemaker/test.py\r\n",
      "-rw-rw-r-- ec2-user/ec2-user 2885 2021-08-25 06:38 deploy/sagemaker/deploy.py\r\n",
      "-rw-rw-r-- ec2-user/ec2-user 2253 2021-08-13 21:28 deploy/sagemaker/deploy_env.py\r\n",
      "-rw-rw-r-- ec2-user/ec2-user  309 2021-08-25 21:28 deploy/sagemaker/config.yml\r\n",
      "drwxrwxr-x ec2-user/ec2-user    0 2021-08-13 21:30 deploy/sagemaker/__pycache__/\r\n",
      "-rw-rw-r-- ec2-user/ec2-user 2825 2021-08-13 21:30 deploy/sagemaker/__pycache__/deploy_env.cpython-36.pyc\r\n",
      "-rw-rw-r-- ec2-user/ec2-user  773 2021-08-13 21:28 deploy/sagemaker/predict.py\r\n",
      "drwxrwxr-x ec2-user/ec2-user    0 2021-08-23 06:42 deploy/sagemaker/.ipynb_checkpoints/\r\n",
      "-rw-rw-r-- ec2-user/ec2-user 6788 2021-08-13 21:28 deploy/sagemaker/serve.py\r\n",
      "-rw-rw-r-- ec2-user/ec2-user 7315 2021-08-23 21:25 deploy/sagemaker/servec.py\r\n",
      "-rw-rw-r-- ec2-user/ec2-user 2887 2021-08-25 21:22 deploy/sagemaker/deployc.py\r\n",
      "drwxrwxr-x ec2-user/ec2-user    0 2021-08-13 21:28 deploy/.ipynb_checkpoints/\r\n",
      "drwxrwxr-x ec2-user/ec2-user    0 2021-08-13 21:37 logs/\r\n",
      "-rw-rw-r-- ec2-user/ec2-user 12288 2021-08-25 21:30 logs/info.log\r\n",
      "-rw-rw-r-- ec2-user/ec2-user     0 2021-08-13 21:37 logs/errors.log\r\n",
      "drwxrwxr-x ec2-user/ec2-user     0 2021-08-13 21:33 model/\r\n",
      "-rw-rw-r-- ec2-user/ec2-user  5286 2021-08-25 06:30 deploy.ipynb\r\n",
      "-rw-rw-r-- ec2-user/ec2-user  1294 2021-08-13 21:38 logging.json\r\n"
     ]
    }
   ],
   "source": []
  },
  {
   "cell_type": "code",
   "execution_count": null,
   "id": "6e49851c",
   "metadata": {},
   "outputs": [],
   "source": []
  }
 ],
 "metadata": {
  "kernelspec": {
   "display_name": "conda_pytorch_p36",
   "language": "python",
   "name": "conda_pytorch_p36"
  },
  "language_info": {
   "codemirror_mode": {
    "name": "ipython",
    "version": 3
   },
   "file_extension": ".py",
   "mimetype": "text/x-python",
   "name": "python",
   "nbconvert_exporter": "python",
   "pygments_lexer": "ipython3",
   "version": "3.6.13"
  }
 },
 "nbformat": 4,
 "nbformat_minor": 5
}
